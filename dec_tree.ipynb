{
 "cells": [
  {
   "cell_type": "code",
   "execution_count": 1,
   "metadata": {},
   "outputs": [
    {
     "name": "stderr",
     "output_type": "stream",
     "text": [
      "/var/folders/v2/ry2lvb_51k19wkb8_2wdbn1r0000gn/T/ipykernel_97180/3247939016.py:1: DeprecationWarning: \n",
      "Pyarrow will become a required dependency of pandas in the next major release of pandas (pandas 3.0),\n",
      "(to allow more performant data types, such as the Arrow string type, and better interoperability with other libraries)\n",
      "but was not found to be installed on your system.\n",
      "If this would cause problems for you,\n",
      "please provide us feedback at https://github.com/pandas-dev/pandas/issues/54466\n",
      "        \n",
      "  import pandas as pd\n"
     ]
    }
   ],
   "source": [
    "import pandas as pd\n",
    "from sklearn.model_selection import train_test_split\n",
    "\n",
    "data_path = '/Users/aeyan/Documents/CS 589/Assignment1/house_votes_84.csv'\n",
    "df = pd.read_csv(data_path)\n",
    "\n",
    "X = df.drop('target', axis=1).values\n",
    "y = df['target'].values\n",
    "\n",
    "X_train, X_test, y_train, y_test = train_test_split(X, y, test_size=0.2, shuffle=True, random_state=1234)\n"
   ]
  },
  {
   "cell_type": "code",
   "execution_count": 2,
   "metadata": {},
   "outputs": [
    {
     "data": {
      "text/html": [
       "<div>\n",
       "<style scoped>\n",
       "    .dataframe tbody tr th:only-of-type {\n",
       "        vertical-align: middle;\n",
       "    }\n",
       "\n",
       "    .dataframe tbody tr th {\n",
       "        vertical-align: top;\n",
       "    }\n",
       "\n",
       "    .dataframe thead th {\n",
       "        text-align: right;\n",
       "    }\n",
       "</style>\n",
       "<table border=\"1\" class=\"dataframe\">\n",
       "  <thead>\n",
       "    <tr style=\"text-align: right;\">\n",
       "      <th></th>\n",
       "      <th>handicapped-infants</th>\n",
       "      <th>water-project-cost-sharing</th>\n",
       "      <th>adoption-of-the-budget-resolution</th>\n",
       "      <th>physician-fee-freeze</th>\n",
       "      <th>el-salvador-adi</th>\n",
       "      <th>religious-groups-in-schools</th>\n",
       "      <th>anti-satellite-test-ban</th>\n",
       "      <th>aid-to-nicaraguan-contras</th>\n",
       "      <th>mx-missile</th>\n",
       "      <th>immigration</th>\n",
       "      <th>synfuels-corporation-cutback</th>\n",
       "      <th>education-spending</th>\n",
       "      <th>superfund-right-to-sue</th>\n",
       "      <th>crime</th>\n",
       "      <th>duty-free-exports</th>\n",
       "      <th>export-administration-act-south-africa</th>\n",
       "      <th>target</th>\n",
       "    </tr>\n",
       "  </thead>\n",
       "  <tbody>\n",
       "    <tr>\n",
       "      <th>0</th>\n",
       "      <td>1</td>\n",
       "      <td>2</td>\n",
       "      <td>1</td>\n",
       "      <td>2</td>\n",
       "      <td>2</td>\n",
       "      <td>2</td>\n",
       "      <td>1</td>\n",
       "      <td>1</td>\n",
       "      <td>1</td>\n",
       "      <td>2</td>\n",
       "      <td>0</td>\n",
       "      <td>2</td>\n",
       "      <td>2</td>\n",
       "      <td>2</td>\n",
       "      <td>1</td>\n",
       "      <td>2</td>\n",
       "      <td>1</td>\n",
       "    </tr>\n",
       "    <tr>\n",
       "      <th>1</th>\n",
       "      <td>1</td>\n",
       "      <td>2</td>\n",
       "      <td>1</td>\n",
       "      <td>2</td>\n",
       "      <td>2</td>\n",
       "      <td>2</td>\n",
       "      <td>1</td>\n",
       "      <td>1</td>\n",
       "      <td>1</td>\n",
       "      <td>1</td>\n",
       "      <td>1</td>\n",
       "      <td>2</td>\n",
       "      <td>2</td>\n",
       "      <td>2</td>\n",
       "      <td>1</td>\n",
       "      <td>0</td>\n",
       "      <td>1</td>\n",
       "    </tr>\n",
       "    <tr>\n",
       "      <th>2</th>\n",
       "      <td>0</td>\n",
       "      <td>2</td>\n",
       "      <td>2</td>\n",
       "      <td>0</td>\n",
       "      <td>2</td>\n",
       "      <td>2</td>\n",
       "      <td>1</td>\n",
       "      <td>1</td>\n",
       "      <td>1</td>\n",
       "      <td>1</td>\n",
       "      <td>2</td>\n",
       "      <td>1</td>\n",
       "      <td>2</td>\n",
       "      <td>2</td>\n",
       "      <td>1</td>\n",
       "      <td>1</td>\n",
       "      <td>0</td>\n",
       "    </tr>\n",
       "    <tr>\n",
       "      <th>3</th>\n",
       "      <td>1</td>\n",
       "      <td>2</td>\n",
       "      <td>2</td>\n",
       "      <td>1</td>\n",
       "      <td>0</td>\n",
       "      <td>2</td>\n",
       "      <td>1</td>\n",
       "      <td>1</td>\n",
       "      <td>1</td>\n",
       "      <td>1</td>\n",
       "      <td>2</td>\n",
       "      <td>1</td>\n",
       "      <td>2</td>\n",
       "      <td>1</td>\n",
       "      <td>1</td>\n",
       "      <td>2</td>\n",
       "      <td>0</td>\n",
       "    </tr>\n",
       "    <tr>\n",
       "      <th>4</th>\n",
       "      <td>2</td>\n",
       "      <td>2</td>\n",
       "      <td>2</td>\n",
       "      <td>1</td>\n",
       "      <td>2</td>\n",
       "      <td>2</td>\n",
       "      <td>1</td>\n",
       "      <td>1</td>\n",
       "      <td>1</td>\n",
       "      <td>1</td>\n",
       "      <td>2</td>\n",
       "      <td>0</td>\n",
       "      <td>2</td>\n",
       "      <td>2</td>\n",
       "      <td>2</td>\n",
       "      <td>2</td>\n",
       "      <td>0</td>\n",
       "    </tr>\n",
       "  </tbody>\n",
       "</table>\n",
       "</div>"
      ],
      "text/plain": [
       "   handicapped-infants  water-project-cost-sharing  \\\n",
       "0                    1                           2   \n",
       "1                    1                           2   \n",
       "2                    0                           2   \n",
       "3                    1                           2   \n",
       "4                    2                           2   \n",
       "\n",
       "   adoption-of-the-budget-resolution  physician-fee-freeze  el-salvador-adi  \\\n",
       "0                                  1                     2                2   \n",
       "1                                  1                     2                2   \n",
       "2                                  2                     0                2   \n",
       "3                                  2                     1                0   \n",
       "4                                  2                     1                2   \n",
       "\n",
       "   religious-groups-in-schools  anti-satellite-test-ban  \\\n",
       "0                            2                        1   \n",
       "1                            2                        1   \n",
       "2                            2                        1   \n",
       "3                            2                        1   \n",
       "4                            2                        1   \n",
       "\n",
       "   aid-to-nicaraguan-contras  mx-missile  immigration  \\\n",
       "0                          1           1            2   \n",
       "1                          1           1            1   \n",
       "2                          1           1            1   \n",
       "3                          1           1            1   \n",
       "4                          1           1            1   \n",
       "\n",
       "   synfuels-corporation-cutback  education-spending  superfund-right-to-sue  \\\n",
       "0                             0                   2                       2   \n",
       "1                             1                   2                       2   \n",
       "2                             2                   1                       2   \n",
       "3                             2                   1                       2   \n",
       "4                             2                   0                       2   \n",
       "\n",
       "   crime  duty-free-exports  export-administration-act-south-africa  target  \n",
       "0      2                  1                                       2       1  \n",
       "1      2                  1                                       0       1  \n",
       "2      2                  1                                       1       0  \n",
       "3      1                  1                                       2       0  \n",
       "4      2                  2                                       2       0  "
      ]
     },
     "execution_count": 2,
     "metadata": {},
     "output_type": "execute_result"
    }
   ],
   "source": [
    "df.head()"
   ]
  },
  {
   "cell_type": "code",
   "execution_count": 3,
   "metadata": {},
   "outputs": [],
   "source": [
    "def entropy(target_col):\n",
    "    elements, counts = np.unique(target_col, return_counts=True)\n",
    "    entropy = np.sum([-counts[i]/np.sum(counts) * np.log2(counts[i]/np.sum(counts)) for i in range(len(elements))])\n",
    "    return entropy"
   ]
  },
  {
   "cell_type": "code",
   "execution_count": 4,
   "metadata": {},
   "outputs": [],
   "source": [
    "def InfoGain(data, split_attribute_name, target_name=\"target\"):\n",
    "\n",
    "    total_entropy = entropy(data[target_name])\n",
    "\n",
    "    vals, counts = np.unique(data[split_attribute_name], return_counts=True)\n",
    "    \n",
    "    Weighted_Entropy = np.sum([(counts[i]/np.sum(counts)) * entropy(data.where(data[split_attribute_name]==vals[i]).dropna()[target_name]) for i in range(len(vals))])\n",
    "    \n",
    "    Information_Gain = total_entropy - Weighted_Entropy\n",
    "    return Information_Gain"
   ]
  },
  {
   "cell_type": "code",
   "execution_count": 5,
   "metadata": {},
   "outputs": [],
   "source": [
    "def DecisionTree(data, features, target_attribute_name=\"target\", parent_node_class=None):\n",
    "\n",
    "    if len(np.unique(data[target_attribute_name])) <= 1:\n",
    "        return np.unique(data[target_attribute_name])[0]\n",
    "    \n",
    "    elif len(data) == 0 or len(features) == 0:\n",
    "        majority_class_index = np.argmax(np.unique(data[target_attribute_name], return_counts=True)[1])\n",
    "        return np.unique(data[target_attribute_name])[majority_class_index]\n",
    "    \n",
    "    else:\n",
    "        majority_class_index = np.argmax(np.unique(data[target_attribute_name], return_counts=True)[1])\n",
    "        parent_node_class = np.unique(data[target_attribute_name])[majority_class_index]\n",
    "        \n",
    "        item_values = [InfoGain(data, feature) for feature in features]\n",
    "        best_feature_index = np.argmax(item_values)\n",
    "        best_feature = features[best_feature_index]\n",
    "        \n",
    "        tree = {best_feature:{}}\n",
    "        \n",
    "        features = [i for i in features if i != best_feature]\n",
    "\n",
    "        for value in np.unique(data[best_feature]):\n",
    "            sub_data = data.where(data[best_feature] == value).dropna()\n",
    "            subtree = DecisionTree(sub_data, features, target_attribute_name, parent_node_class)\n",
    "            tree[best_feature][value] = subtree\n",
    "            \n",
    "        return tree"
   ]
  },
  {
   "cell_type": "code",
   "execution_count": 6,
   "metadata": {},
   "outputs": [
    {
     "data": {
      "text/plain": [
       "{'physician-fee-freeze': {0: {'synfuels-corporation-cutback': {0.0: {'mx-missile': {0.0: 1.0,\n",
       "      2.0: 0.0}},\n",
       "    1.0: 1.0,\n",
       "    2.0: 0.0}},\n",
       "  1: {'adoption-of-the-budget-resolution': {0.0: 0.0,\n",
       "    1.0: {'education-spending': {0.0: 1.0,\n",
       "      1.0: {'duty-free-exports': {0.0: 0.0,\n",
       "        1.0: {'religious-groups-in-schools': {1.0: 1.0, 2.0: 0.0}},\n",
       "        2.0: 0.0}},\n",
       "      2.0: 0.0}},\n",
       "    2.0: 0.0}},\n",
       "  2: {'synfuels-corporation-cutback': {0.0: 1.0,\n",
       "    1.0: {'superfund-right-to-sue': {0.0: {'education-spending': {1.0: {'adoption-of-the-budget-resolution': {1.0: 0.0,\n",
       "          2.0: 1.0}},\n",
       "        2.0: 1.0}},\n",
       "      1.0: 1.0,\n",
       "      2.0: {'adoption-of-the-budget-resolution': {0.0: 1.0,\n",
       "        1.0: 1.0,\n",
       "        2.0: {'export-administration-act-south-africa': {0.0: 0.0,\n",
       "          2.0: 1.0}}}}}},\n",
       "    2.0: {'mx-missile': {1.0: {'adoption-of-the-budget-resolution': {1.0: {'superfund-right-to-sue': {1.0: {'water-project-cost-sharing': {1.0: 1.0,\n",
       "            2.0: 0.0}},\n",
       "          2.0: 1.0}},\n",
       "        2.0: {'water-project-cost-sharing': {1.0: 1.0, 2.0: 0.0}}}},\n",
       "      2.0: 0.0}}}}}}"
      ]
     },
     "execution_count": 6,
     "metadata": {},
     "output_type": "execute_result"
    }
   ],
   "source": [
    "import numpy as np \n",
    "\n",
    "X_train_df = pd.DataFrame(X_train, columns=df.columns[:-1])\n",
    "y_train_series = pd.Series(y_train, name='target')\n",
    "\n",
    "df_train = pd.concat([X_train_df, y_train_series], axis=1)\n",
    "\n",
    "features = df_train.columns[:-1].tolist()\n",
    "\n",
    "decision_tree = DecisionTree(df_train, features)\n",
    "\n",
    "decision_tree"
   ]
  },
  {
   "cell_type": "code",
   "execution_count": 7,
   "metadata": {},
   "outputs": [],
   "source": [
    "def predict(instance, tree):\n",
    "    for nodes in tree.keys():        \n",
    "        value = instance[nodes]\n",
    "        if value not in tree[nodes]:\n",
    "            return np.random.choice([0, 1])\n",
    "        tree = tree[nodes][value]    \n",
    "        if type(tree) is dict:\n",
    "            prediction = predict(instance, tree)\n",
    "        else:\n",
    "            prediction = tree\n",
    "            break;                            \n",
    "    \n",
    "    return prediction\n"
   ]
  },
  {
   "cell_type": "code",
   "execution_count": 8,
   "metadata": {},
   "outputs": [
    {
     "name": "stdout",
     "output_type": "stream",
     "text": [
      "0    0.0\n",
      "1    0.0\n",
      "2    0.0\n",
      "3    0.0\n",
      "4    0.0\n",
      "dtype: float64\n"
     ]
    }
   ],
   "source": [
    "predictions = df_train.apply(lambda row: predict(row, decision_tree), axis=1)\n",
    "\n",
    "print(predictions.head())\n"
   ]
  },
  {
   "cell_type": "code",
   "execution_count": 9,
   "metadata": {},
   "outputs": [],
   "source": [
    "def calculate_accuracy(data, tree):\n",
    "    predictions = data.apply(predict, axis=1, args=(tree,))\n",
    "    actual = data['target']\n",
    "    correct = sum(predictions == actual)\n",
    "    accuracy = correct / len(data)\n",
    "    return accuracy"
   ]
  },
  {
   "cell_type": "code",
   "execution_count": 10,
   "metadata": {},
   "outputs": [],
   "source": [
    "accuracies_train = []\n",
    "\n",
    "for i in range(100):\n",
    "\n",
    "    accuracy_train = calculate_accuracy(df_train, decision_tree)\n",
    "    accuracies_train.append(accuracy_train)\n"
   ]
  },
  {
   "cell_type": "code",
   "execution_count": 11,
   "metadata": {},
   "outputs": [],
   "source": [
    "X_test_df = pd.DataFrame(X_test, columns=df.columns[:-1])\n",
    "y_test_series = pd.Series(y_test, name='target')\n",
    "\n",
    "df_test = pd.concat([X_test_df, y_test_series], axis=1)\n",
    "\n",
    "accuracies_test = []\n",
    "\n",
    "for i in range(100):\n",
    "    accuracy_test = calculate_accuracy(df_test, decision_tree)\n",
    "    accuracies_test.append(accuracy_test)"
   ]
  },
  {
   "cell_type": "code",
   "execution_count": 12,
   "metadata": {},
   "outputs": [
    {
     "data": {
      "text/plain": [
       "(1.0, 0.0, 0.9550574712643676, 0.008143092070831533)"
      ]
     },
     "execution_count": 12,
     "metadata": {},
     "output_type": "execute_result"
    }
   ],
   "source": [
    "mean_accuracy_train = np.mean(accuracies_train)\n",
    "std_dev_accuracy_train = np.std(accuracies_train)\n",
    "\n",
    "mean_accuracy_test = np.mean(accuracies_test)\n",
    "std_dev_accuracy_test = np.std(accuracies_test)\n",
    "\n",
    "mean_accuracy_train, std_dev_accuracy_train, mean_accuracy_test, std_dev_accuracy_test"
   ]
  },
  {
   "cell_type": "code",
   "execution_count": 13,
   "metadata": {},
   "outputs": [
    {
     "data": {
      "image/png": "[encoded data removed]",
      "text/plain": [
       "<Figure size 1200x600 with 2 Axes>"
      ]
     },
     "metadata": {},
     "output_type": "display_data"
    }
   ],
   "source": [
    "import matplotlib.pyplot as plt\n",
    "\n",
    "fig, axs = plt.subplots(1, 2, figsize=(12, 6))\n",
    "\n",
    "axs[0].hist(accuracies_train, bins=1000, color='skyblue', edgecolor='black')\n",
    "axs[0].set_title('Training Accuracies')\n",
    "axs[0].set_xlabel('Accuracy')\n",
    "axs[0].set_ylabel('Frequency')\n",
    "\n",
    "axs[1].hist(accuracies_test, bins=1000, color='lightgreen', edgecolor='black')\n",
    "axs[1].set_title('Testing Accuracies')\n",
    "axs[1].set_xlabel('Accuracy')\n",
    "axs[1].set_ylabel('Frequency')\n",
    "\n",
    "plt.tight_layout()\n",
    "plt.show()\n"
   ]
  }
 ],
 "metadata": {
  "kernelspec": {
   "display_name": "Python 3",
   "language": "python",
   "name": "python3"
  },
  "language_info": {
   "codemirror_mode": {
    "name": "ipython",
    "version": 3
   },
   "file_extension": ".py",
   "mimetype": "text/x-python",
   "name": "python",
   "nbconvert_exporter": "python",
   "pygments_lexer": "ipython3",
   "version": "3.11.6"
  }
 },
 "nbformat": 4,
 "nbformat_minor": 2
}
